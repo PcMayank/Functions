{
  "nbformat": 4,
  "nbformat_minor": 0,
  "metadata": {
    "colab": {
      "provenance": []
    },
    "kernelspec": {
      "name": "python3",
      "display_name": "Python 3"
    },
    "language_info": {
      "name": "python"
    }
  },
  "cells": [
    {
      "cell_type": "markdown",
      "source": [
        "# Theorotical\n",
        "---\n"
      ],
      "metadata": {
        "id": "g_5uxR0XmCkg"
      }
    },
    {
      "cell_type": "markdown",
      "source": [
        "1. What is the difference between a function and a method in Python?\n",
        "- A function is a block of code that is defined using the def keyword or the lambda expression.\n",
        "\n",
        "  - It is not associated with any object unless explicitly passed.\n",
        "\n",
        "  - Can be called independently.\n",
        "\n",
        "- A method is a function that is associated with an object.\n",
        "\n",
        "  - Defined within a class and acts on instances of that class.\n",
        "\n"
      ],
      "metadata": {
        "id": "562vSmUCmCg1"
      }
    },
    {
      "cell_type": "markdown",
      "source": [
        "2. Explain the concept of function arguments and parameters in Python.\n",
        "\n",
        "- Parameters are placeholders defined in a function definition.\n",
        "\n",
        "  - They are local variables that receive values when the function is called.\n",
        "\n",
        "  \n",
        "- Arguments are the actual values passed to a function when it is called.\n",
        "\n",
        " - They are assigned to the parameters defined in the function.\n",
        "\n",
        " For ex-\n",
        "     \n",
        "      def greet(name): // name is a parameter\n",
        "      print(\"Hello\",name)\n",
        "\n",
        "      greet(\"Yash\")   // here Yash is a argument"
      ],
      "metadata": {
        "id": "1M83rQfSmCao"
      }
    },
    {
      "cell_type": "markdown",
      "source": [
        "3. What are the different ways to define and call a function in Python?\n",
        "\n",
        "# Defining functions\n",
        "\n",
        "  1. Using def\n",
        "  2. With variable- length arguments\n",
        "  3. Using Lambda\n",
        "\n",
        "# Calling Functions\n",
        "\n",
        " 1. with positional arguments\n",
        " 2. with keyword arguments\n",
        " 3. using *args and **kwargs"
      ],
      "metadata": {
        "id": "9KpOxthmmCXS"
      }
    },
    {
      "cell_type": "markdown",
      "source": [
        "4.  What is the purpose of the `return` statement in a Python function?\n",
        "- In python, `return` is used to exit the function and return a value.\n"
      ],
      "metadata": {
        "id": "EuW3uAmrmCOa"
      }
    },
    {
      "cell_type": "markdown",
      "source": [
        "5.  What are iterators in Python and how do they differ from iterables?\n",
        "- An iterator is an object that keeps state and produces the next value when you call `next()` on it.\n",
        "  - It\n",
        "\n",
        "- An iterable is any Python object capable of returning its members one at a time. You can loop over it with a for loop.\n",
        " - Ex- Lists, Tuples, dict, Set."
      ],
      "metadata": {
        "id": "BglHfFgtmCKX"
      }
    },
    {
      "cell_type": "markdown",
      "source": [
        "6. Explain the concept of generators in Python and how they are defined.\n",
        "- A generator is a special type of iterator that is defined using a function with the yield keyword. It allows you to generate values on the fly instead of storing them all at once in memory.\n",
        "\n",
        "- Generators produce a sequence of values lazily — one at a time, and only when requested (via next()).\n",
        "\n",
        "- They are memory-efficient, especially for large datasets or infinite sequences.\n",
        "\n",
        "- Ex -  \n",
        "       def count_up_to(n):\n",
        "       count = 1\n",
        "       while count <= n:\n",
        "         yield count\n",
        "         count += 1\n",
        "\n",
        "         gen = count_up_to(3)\n",
        "         print(next(gen))    # 1\n",
        "         print(next(gen))    # 2\n",
        "         print(next(gen))    # 3"
      ],
      "metadata": {
        "id": "kmnUtuq3mCHf"
      }
    },
    {
      "cell_type": "markdown",
      "source": [
        "7. What are the advantages of using generators over regular functions?\n",
        "- There are some advantages of using generators over regular functions -\n",
        "   - #### Memory Efficiency (Generators yield one item at a time and don’t  store the entire sequence in memory.)\n",
        "   - #### Lazy Evaluation (Generators produce values on demand, which speeds up processing when not all data is needed immediately.)\n",
        "   - #### Improved Performance"
      ],
      "metadata": {
        "id": "0b8wGYXHmCDe"
      }
    },
    {
      "cell_type": "markdown",
      "source": [
        "8. What is a lambda function in Python and when is it typically used?\n",
        "- Lambda is also a type of function which is usually used to make the codes shorter.\n",
        "  - #### Syntax- *lambda arguments: expression*\n",
        "\n",
        "- Lambda functions are typically used when you need a small function for a short period of time."
      ],
      "metadata": {
        "id": "p7GObyuTmB_x"
      }
    },
    {
      "cell_type": "markdown",
      "source": [
        "9. Explain the purpose and usage of the `map()` function in Python.\n",
        "- The map() function in Python is used to apply a function to every item in an iterable (like a list, tuple, etc.) and return a new map object (which is an iterator) containing the results.\n",
        "\n",
        "- The primary purpose of map() is to simplify the process of applying a transformation function to each element in a sequence, making code cleaner and more efficient than using explicit loops."
      ],
      "metadata": {
        "id": "hUcV51FjmB7V"
      }
    },
    {
      "cell_type": "markdown",
      "source": [
        "10. What is the difference between `map()`, `reduce()`, and `filter()` functions in Python?\n",
        "- Map() - Applies a function to each item in an iterable and returns a new iterable with the transformed values.\n",
        "- reduce() - Applies a function cumulatively to the items of an iterable, from left to right, so as to reduce the iterable to a single value.\n",
        "- filter() - Applies a function that returns True or False to each item and filters out the items where the function returns False."
      ],
      "metadata": {
        "id": "jBaH_w3NmByc"
      }
    },
    {
      "cell_type": "markdown",
      "source": [
        "11. Using pen & Paper write the internal mechanism for sum operation using  reduce function on this given\n",
        "list:[47,11,42,13].\n",
        "        from functools import reduce\n",
        "        numbers = [47, 11, 42, 13]\n",
        "        result = reduce(lambda x, y: x + y, numbers)\n",
        "        print(result)\n",
        "\n",
        "- So Simply the mechanism is that firstly our x=47, y=11, then It will perform x+y which is `58` which is our updated value of `x` and now our `y` is `42`. Then again x+y will run and will give us value `100` whichis updated value of `x` and `y` is now `13`. The last sum will be performed here so, x+y is now `113`.\n",
        "\n",
        "      The result will be 113"
      ],
      "metadata": {
        "id": "-HwjRJXzmPZm"
      }
    },
    {
      "cell_type": "code",
      "execution_count": 1,
      "metadata": {
        "id": "NqUhcEJ0eBsl",
        "colab": {
          "base_uri": "https://localhost:8080/"
        },
        "outputId": "bec07e6e-5035-4212-d559-0a33c2f434cf"
      },
      "outputs": [
        {
          "output_type": "stream",
          "name": "stdout",
          "text": [
            "30\n"
          ]
        }
      ],
      "source": [
        "# Write a Python function that takes a list of numbers as input and returns the sum of all even numbers in the list.\n",
        "def even(numbers):\n",
        "  return sum(filter(lambda x: x%2==0,numbers))\n",
        "print(even([1,2,3,4,5,6,7,8,9,10]))"
      ]
    },
    {
      "cell_type": "code",
      "source": [
        "# Create a Python function that accepts a string and returns the reverse of that string.\n",
        "def reverse(string):\n",
        "  return string[::-1]\n",
        "print(reverse(\"Mayank\"))"
      ],
      "metadata": {
        "colab": {
          "base_uri": "https://localhost:8080/"
        },
        "id": "VnlHPR572qyG",
        "outputId": "b2d7c6e4-62e2-4a8b-9dc0-e8ff7f2aa94c"
      },
      "execution_count": 5,
      "outputs": [
        {
          "output_type": "stream",
          "name": "stdout",
          "text": [
            "knayaM\n"
          ]
        }
      ]
    },
    {
      "cell_type": "code",
      "source": [
        "#  Implement a Python function that takes a list of integers and returns a new list containing the squares of each number.\n",
        "def sq(num):\n",
        "  return list(map(lambda x:x**2,num))\n",
        "sq([1,2,3,4,5,6,7,8,9,10])\n",
        ""
      ],
      "metadata": {
        "colab": {
          "base_uri": "https://localhost:8080/"
        },
        "id": "WIi7-QG82qur",
        "outputId": "7b643e4b-439a-4878-b857-15d61f2341d0"
      },
      "execution_count": 7,
      "outputs": [
        {
          "output_type": "execute_result",
          "data": {
            "text/plain": [
              "[1, 4, 9, 16, 25, 36, 49, 64, 81, 100]"
            ]
          },
          "metadata": {},
          "execution_count": 7
        }
      ]
    },
    {
      "cell_type": "code",
      "source": [
        "# Write a Python function that checks if a given number is prime or not from 1 to 200.\n",
        "def prime(num):\n",
        "  if num<2:\n",
        "    return False\n",
        "  for i in range(2,int(num**0.5)+1):\n",
        "     if num%i==0:\n",
        "      return False\n",
        "     return True\n",
        "print(prime(7))\n"
      ],
      "metadata": {
        "colab": {
          "base_uri": "https://localhost:8080/"
        },
        "id": "ly7MYUGE2qZ3",
        "outputId": "eb486d23-d1eb-4e4b-dfa7-0fe8f58ba00f"
      },
      "execution_count": 10,
      "outputs": [
        {
          "output_type": "stream",
          "name": "stdout",
          "text": [
            "True\n"
          ]
        }
      ]
    },
    {
      "cell_type": "code",
      "source": [
        "# Create an iterator class in Python that generates the Fibonacci sequence up to a specified number of terms.\n",
        "def fibbonaci(n):\n",
        "  a ,b=0,1\n",
        "  count=0\n",
        "  while count<n:\n",
        "    yield a\n",
        "    a,b=b,a+b\n",
        "    count+=1\n",
        "for i in fibbonaci(10):\n",
        "  print(i, end=\" \")"
      ],
      "metadata": {
        "colab": {
          "base_uri": "https://localhost:8080/"
        },
        "id": "3k_gHSpN2qV4",
        "outputId": "cd178a93-36af-4c59-81fa-d5ecd696ff72"
      },
      "execution_count": 13,
      "outputs": [
        {
          "output_type": "stream",
          "name": "stdout",
          "text": [
            "0 1 1 2 3 5 8 13 21 34 "
          ]
        }
      ]
    },
    {
      "cell_type": "code",
      "source": [
        "# Write a generator function in Python that yields the powers of 2 up to a given exponent.\n",
        "def power(n):\n",
        "  for i in range(n+1):\n",
        "    yield 2**i\n",
        "\n",
        "for i in power(5):\n",
        "   print(i,end=\" \")"
      ],
      "metadata": {
        "colab": {
          "base_uri": "https://localhost:8080/"
        },
        "id": "yMCLzxKd2qQo",
        "outputId": "e6c985ba-b3a2-45c5-9a7f-0bfdff282c96"
      },
      "execution_count": 18,
      "outputs": [
        {
          "output_type": "stream",
          "name": "stdout",
          "text": [
            "1 2 4 8 16 32 "
          ]
        }
      ]
    },
    {
      "cell_type": "code",
      "source": [
        "#  Use a lambda function in Python to sort a list of tuples based on the second element of each tuple.\n",
        "tupled_list = [(1, 5), (3, 2), (2, 8), (5, 1)]\n",
        "sorted_list = sorted(tupled_list, key=lambda x: x[1])\n",
        "print(sorted_list)"
      ],
      "metadata": {
        "colab": {
          "base_uri": "https://localhost:8080/"
        },
        "id": "Q_i22iS40MvE",
        "outputId": "778ec141-9481-48b1-f243-45591517728c"
      },
      "execution_count": 22,
      "outputs": [
        {
          "output_type": "stream",
          "name": "stdout",
          "text": [
            "[(5, 1), (3, 2), (1, 5), (2, 8)]\n"
          ]
        }
      ]
    },
    {
      "cell_type": "code",
      "source": [
        "# Write a Python program that uses `map()` to convert a list of temperatures from Celsius to Fahrenheit.\n",
        "c=[10,20,30,40,50]\n",
        "f=list(map(lambda x: (x * 9/5) + 32, c))\n",
        "print(f)"
      ],
      "metadata": {
        "colab": {
          "base_uri": "https://localhost:8080/"
        },
        "id": "aGhw2vXn3JPn",
        "outputId": "9592945c-e72b-4f29-bcc2-efe273d2fb3d"
      },
      "execution_count": 25,
      "outputs": [
        {
          "output_type": "stream",
          "name": "stdout",
          "text": [
            "[50.0, 68.0, 86.0, 104.0, 122.0]\n"
          ]
        }
      ]
    },
    {
      "cell_type": "code",
      "source": [
        "# Create a Python program that uses `filter()` to remove all the vowels from a given string.\n",
        "def remove(str):\n",
        "  vowels='aeiouAEIOU'\n",
        "  return \"\".join(filter(lambda x: x not in vowels,str))\n",
        "\n",
        "remove(\"Mayank is king of upcoming AI Technology\")"
      ],
      "metadata": {
        "colab": {
          "base_uri": "https://localhost:8080/",
          "height": 35
        },
        "id": "VVIN9-2B3JKv",
        "outputId": "aecd0ec2-4c83-4506-8ec8-66bbc67b3832"
      },
      "execution_count": 26,
      "outputs": [
        {
          "output_type": "execute_result",
          "data": {
            "text/plain": [
              "'Mynk s kng f pcmng  Tchnlgy'"
            ],
            "application/vnd.google.colaboratory.intrinsic+json": {
              "type": "string"
            }
          },
          "metadata": {},
          "execution_count": 26
        }
      ]
    },
    {
      "cell_type": "code",
      "source": [
        "''' Imagine an accounting routine used in a book shop. It works on a list with sublists, which look like this:\n",
        "\n",
        "\n",
        "\n",
        "\n",
        "\n",
        "\n",
        "\n",
        "Write a Python program, which returns a list with 2-tuples. Each tuple consists of the order number and the\n",
        "product of the price per item and the quantity. The product should be increased by 10,- € if the value of the\n",
        "order is smaller than 100,00 €.\n",
        "\n",
        "Write a Python program using lambda and map.'''\n",
        "\n",
        "book_orders = [\n",
        "    [34587, \"Learning Python, Mark Lutz\", 4, 40.95],\n",
        "    [98762, \"Programming Python, Mark Lutz\", 5, 56.80],\n",
        "    [77226, \"Head First Python, Paul Barry\", 3, 32.95],\n",
        "    [88112, \"Einführung in Python3, Bernd Klein\", 3, 24.99]\n",
        "]\n",
        "\n",
        "output = list(map(\n",
        "    lambda order: (\n",
        "        order[0],\n",
        "        (order[2] * order[3]) + (10 if (order[2] * order[3]) < 100.00 else 0)\n",
        "    ),\n",
        "    book_orders\n",
        "))\n",
        "\n",
        "print(\"\\nOutput using lambda and map:\")\n",
        "print(output)"
      ],
      "metadata": {
        "colab": {
          "base_uri": "https://localhost:8080/"
        },
        "id": "ZYOgfhSd3JCp",
        "outputId": "a23d3c5a-6545-4a57-f359-19b3891726f8"
      },
      "execution_count": 27,
      "outputs": [
        {
          "output_type": "stream",
          "name": "stdout",
          "text": [
            "\n",
            "Output using lambda and map:\n",
            "[(34587, 163.8), (98762, 284.0), (77226, 108.85000000000001), (88112, 84.97)]\n"
          ]
        }
      ]
    },
    {
      "cell_type": "code",
      "source": [
        "# Using Simple function\n",
        "orders = [[34587,\"Learning Python, Mark Lutz\",4,40.95],[98762,\"Programming Python, Mark Lutz\",5,56.80],\n",
        "[77226,\"Head First Python, Paul Barry\",3,32.95],[88112,\"Einfuhrung in Python3, Bernd Klein\",3,24.99]\n",
        "]\n",
        "def calc_values(books):\n",
        "  result=[]\n",
        "  for book in books:\n",
        "    if book[2]*book[3]<100.00:\n",
        "      result.append((book[0],(book[2]*book[3]+10)))\n",
        "\n",
        "    else:\n",
        "      result.append((book[0],book[2]*book[3]))\n",
        "  return result\n",
        "print(calc_values(orders))"
      ],
      "metadata": {
        "colab": {
          "base_uri": "https://localhost:8080/"
        },
        "id": "bbNvXch5JcCE",
        "outputId": "1f7825bc-a4a7-49c6-8e86-10b6a0f9804f"
      },
      "execution_count": 34,
      "outputs": [
        {
          "output_type": "stream",
          "name": "stdout",
          "text": [
            "[(34587, 163.8), (98762, 284.0), (77226, 108.85000000000001), (88112, 84.97)]\n"
          ]
        }
      ]
    },
    {
      "cell_type": "code",
      "source": [],
      "metadata": {
        "id": "pJkXLJz6NQD1"
      },
      "execution_count": null,
      "outputs": []
    }
  ]
}